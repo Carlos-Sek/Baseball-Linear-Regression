{
 "cells": [
  {
   "cell_type": "markdown",
   "metadata": {},
   "source": [
    "# Outline\n",
    "\n",
    "1) Objective\n",
    "\n",
    "2) Data Exploration\n",
    "\n",
    "    2.1) Descriptive Statistics\n",
    "    \n",
    "    2.2) Data Visualizations\n",
    "    \n",
    "3) Linear Regression Models\n",
    "\n",
    "4) Model Validation\n",
    "\n",
    "5) Predictions\n",
    "\n",
    "6) Conclusion\n",
    "\n",
    "7) Next Steps"
   ]
  },
  {
   "cell_type": "markdown",
   "metadata": {},
   "source": [
    "# 1 Objective\n",
    "Success will be based on accurately the predictions of the number of wins based on past data in the chosen time periods.\n",
    "\n",
    "We aim to determine how teams are able win in:\n",
    "- 1990-2010\n",
    "\n",
    "I chose this time period because this is when all the current MLB teams were established."
   ]
  },
  {
   "cell_type": "markdown",
   "metadata": {},
   "source": [
    "# 2 Data Exploration"
   ]
  },
  {
   "cell_type": "code",
   "execution_count": 2,
   "metadata": {},
   "outputs": [
    {
     "name": "stderr",
     "output_type": "stream",
     "text": [
      "C:\\Users\\carlo\\AppData\\Local\\Continuum\\anaconda3\\lib\\site-packages\\statsmodels\\compat\\pandas.py:49: FutureWarning: The Panel class is removed from pandas. Accessing it from the top-level namespace will also be removed in the next version\n",
      "  data_klasses = (pandas.Series, pandas.DataFrame, pandas.Panel)\n"
     ]
    }
   ],
   "source": [
    "# imports\n",
    "import pandas as pd\n",
    "import seaborn as sns\n",
    "import statsmodels.formula.api as smf\n",
    "import statsmodels.api as sm\n",
    "import matplotlib.pyplot as plt\n",
    "from sklearn.linear_model import LinearRegression\n",
    "from sklearn import metrics \n",
    "from sklearn.model_selection  import train_test_split\n",
    "import numpy as np\n",
    "from pandas import Series, DataFrame\n",
    "from statsmodels.graphics.gofplots import qqplot_2samples, qqplot\n",
    "from scipy.stats import pearsonr\n",
    "# allow plots to appear directly in the notebook\n",
    "%matplotlib inline\n",
    "sns.set()"
   ]
  },
  {
   "cell_type": "code",
   "execution_count": 58,
   "metadata": {},
   "outputs": [],
   "source": [
    "baseball=pd.read_csv(r'baseball_teams.csv', header=0)\n",
    "baseball.columns=baseball.columns.str.replace(' ', '_')\n",
    "baseball_1990_2010=pd.DataFrame(baseball[2047:2655])"
   ]
  },
  {
   "cell_type": "code",
   "execution_count": 59,
   "metadata": {
    "scrolled": true
   },
   "outputs": [
    {
     "data": {
      "text/plain": [
       "Year_                  1.723834e+03\n",
       "Final_Standing         5.398253e+00\n",
       "Games_Played           5.395051e+02\n",
       "Unnamed:_7             2.207763e+01\n",
       "Games_Won              3.111838e+02\n",
       "Games_Lost             3.019976e+02\n",
       "Unnamed:_10            1.493375e-01\n",
       "League_Win             8.838555e-02\n",
       "World_Series           4.515867e-02\n",
       "Runs_Scored            1.842487e+04\n",
       "At_Bats                5.633278e+05\n",
       "Hits                   4.835232e+04\n",
       "Doubles                3.444821e+03\n",
       "Triples                4.958914e+02\n",
       "Home_Runs              3.778352e+03\n",
       "Walks                  1.757902e+04\n",
       "Strike_Outs            8.914511e+04\n",
       "Stolen_Bases           5.014208e+03\n",
       "Caught_Stealing        4.667211e+02\n",
       "Hit_By_Pitch           1.832643e+02\n",
       "Sacrifice_Fly          7.431096e+01\n",
       "Runs_Against           1.820206e+04\n",
       "Earned_Runs            2.159666e+04\n",
       "Earned_Run_Average     5.815132e-01\n",
       "Complete_Games         1.500238e+03\n",
       "Shutout                2.598276e+01\n",
       "Saves                  2.650807e+02\n",
       "Infield_Put_Outs       3.981571e+05\n",
       "Hits_Allowed           4.818950e+04\n",
       "Home_Run_Allowed       3.392480e+03\n",
       "Walks_Allowed          1.739498e+04\n",
       "Strikeouts_Allowed     8.785882e+04\n",
       "Errors                 1.159013e+04\n",
       "Double_Plays           8.598245e+02\n",
       "Fielding_Percentage    9.134730e-04\n",
       "Attendance             8.966795e+11\n",
       "dtype: float64"
      ]
     },
     "execution_count": 59,
     "metadata": {},
     "output_type": "execute_result"
    }
   ],
   "source": [
    "baseball.var()"
   ]
  },
  {
   "cell_type": "code",
   "execution_count": 94,
   "metadata": {},
   "outputs": [
    {
     "data": {
      "text/html": [
       "<div>\n",
       "<style scoped>\n",
       "    .dataframe tbody tr th:only-of-type {\n",
       "        vertical-align: middle;\n",
       "    }\n",
       "\n",
       "    .dataframe tbody tr th {\n",
       "        vertical-align: top;\n",
       "    }\n",
       "\n",
       "    .dataframe thead th {\n",
       "        text-align: right;\n",
       "    }\n",
       "</style>\n",
       "<table border=\"1\" class=\"dataframe\">\n",
       "  <thead>\n",
       "    <tr style=\"text-align: right;\">\n",
       "      <th></th>\n",
       "      <th>Year_</th>\n",
       "      <th>League</th>\n",
       "      <th>Team_</th>\n",
       "      <th>Franchise_</th>\n",
       "      <th>Division</th>\n",
       "      <th>Final_Standing</th>\n",
       "      <th>Games_Played</th>\n",
       "      <th>Unnamed:_7</th>\n",
       "      <th>Games_Won</th>\n",
       "      <th>Games_Lost</th>\n",
       "      <th>...</th>\n",
       "      <th>Hits_Allowed</th>\n",
       "      <th>Home_Run_Allowed</th>\n",
       "      <th>Walks_Allowed</th>\n",
       "      <th>Strikeouts_Allowed</th>\n",
       "      <th>Errors</th>\n",
       "      <th>Double_Plays</th>\n",
       "      <th>Fielding_Percentage</th>\n",
       "      <th>Team_Name</th>\n",
       "      <th>Home_Ball_Park</th>\n",
       "      <th>Attendance</th>\n",
       "    </tr>\n",
       "  </thead>\n",
       "  <tbody>\n",
       "    <tr>\n",
       "      <th>2047</th>\n",
       "      <td>1990</td>\n",
       "      <td>NL</td>\n",
       "      <td>ATL</td>\n",
       "      <td>ATL</td>\n",
       "      <td>W</td>\n",
       "      <td>6</td>\n",
       "      <td>162</td>\n",
       "      <td>81.0</td>\n",
       "      <td>65</td>\n",
       "      <td>97</td>\n",
       "      <td>...</td>\n",
       "      <td>1527</td>\n",
       "      <td>128</td>\n",
       "      <td>579</td>\n",
       "      <td>938</td>\n",
       "      <td>158</td>\n",
       "      <td>133.0</td>\n",
       "      <td>0.97</td>\n",
       "      <td>Atlanta Braves</td>\n",
       "      <td>Atlanta-Fulton County Stadium</td>\n",
       "      <td>980129.0</td>\n",
       "    </tr>\n",
       "    <tr>\n",
       "      <th>2048</th>\n",
       "      <td>1990</td>\n",
       "      <td>AL</td>\n",
       "      <td>BAL</td>\n",
       "      <td>BAL</td>\n",
       "      <td>E</td>\n",
       "      <td>5</td>\n",
       "      <td>161</td>\n",
       "      <td>80.0</td>\n",
       "      <td>76</td>\n",
       "      <td>85</td>\n",
       "      <td>...</td>\n",
       "      <td>1445</td>\n",
       "      <td>161</td>\n",
       "      <td>537</td>\n",
       "      <td>776</td>\n",
       "      <td>91</td>\n",
       "      <td>151.0</td>\n",
       "      <td>0.98</td>\n",
       "      <td>Baltimore Orioles</td>\n",
       "      <td>Memorial Stadium</td>\n",
       "      <td>2415189.0</td>\n",
       "    </tr>\n",
       "    <tr>\n",
       "      <th>2049</th>\n",
       "      <td>1990</td>\n",
       "      <td>AL</td>\n",
       "      <td>BOS</td>\n",
       "      <td>BOS</td>\n",
       "      <td>E</td>\n",
       "      <td>1</td>\n",
       "      <td>162</td>\n",
       "      <td>81.0</td>\n",
       "      <td>88</td>\n",
       "      <td>74</td>\n",
       "      <td>...</td>\n",
       "      <td>1439</td>\n",
       "      <td>92</td>\n",
       "      <td>519</td>\n",
       "      <td>997</td>\n",
       "      <td>123</td>\n",
       "      <td>154.0</td>\n",
       "      <td>0.98</td>\n",
       "      <td>Boston Red Sox</td>\n",
       "      <td>Fenway Park II</td>\n",
       "      <td>2528986.0</td>\n",
       "    </tr>\n",
       "    <tr>\n",
       "      <th>2050</th>\n",
       "      <td>1990</td>\n",
       "      <td>AL</td>\n",
       "      <td>CAL</td>\n",
       "      <td>ANA</td>\n",
       "      <td>W</td>\n",
       "      <td>4</td>\n",
       "      <td>162</td>\n",
       "      <td>81.0</td>\n",
       "      <td>80</td>\n",
       "      <td>82</td>\n",
       "      <td>...</td>\n",
       "      <td>1482</td>\n",
       "      <td>106</td>\n",
       "      <td>544</td>\n",
       "      <td>944</td>\n",
       "      <td>140</td>\n",
       "      <td>186.0</td>\n",
       "      <td>0.97</td>\n",
       "      <td>California Angels</td>\n",
       "      <td>Anaheim Stadium</td>\n",
       "      <td>2555688.0</td>\n",
       "    </tr>\n",
       "    <tr>\n",
       "      <th>2051</th>\n",
       "      <td>1990</td>\n",
       "      <td>AL</td>\n",
       "      <td>CHA</td>\n",
       "      <td>CHW</td>\n",
       "      <td>W</td>\n",
       "      <td>2</td>\n",
       "      <td>162</td>\n",
       "      <td>80.0</td>\n",
       "      <td>94</td>\n",
       "      <td>68</td>\n",
       "      <td>...</td>\n",
       "      <td>1313</td>\n",
       "      <td>106</td>\n",
       "      <td>548</td>\n",
       "      <td>914</td>\n",
       "      <td>124</td>\n",
       "      <td>169.0</td>\n",
       "      <td>0.98</td>\n",
       "      <td>Chicago White Sox</td>\n",
       "      <td>Comiskey Park</td>\n",
       "      <td>2002357.0</td>\n",
       "    </tr>\n",
       "  </tbody>\n",
       "</table>\n",
       "<p>5 rows × 42 columns</p>\n",
       "</div>"
      ],
      "text/plain": [
       "      Year_ League Team_ Franchise_ Division  Final_Standing  Games_Played  \\\n",
       "2047   1990     NL   ATL        ATL        W               6           162   \n",
       "2048   1990     AL   BAL        BAL        E               5           161   \n",
       "2049   1990     AL   BOS        BOS        E               1           162   \n",
       "2050   1990     AL   CAL        ANA        W               4           162   \n",
       "2051   1990     AL   CHA        CHW        W               2           162   \n",
       "\n",
       "      Unnamed:_7  Games_Won  Games_Lost  ... Hits_Allowed Home_Run_Allowed  \\\n",
       "2047        81.0         65          97  ...         1527              128   \n",
       "2048        80.0         76          85  ...         1445              161   \n",
       "2049        81.0         88          74  ...         1439               92   \n",
       "2050        81.0         80          82  ...         1482              106   \n",
       "2051        80.0         94          68  ...         1313              106   \n",
       "\n",
       "     Walks_Allowed  Strikeouts_Allowed  Errors  Double_Plays  \\\n",
       "2047           579                 938     158         133.0   \n",
       "2048           537                 776      91         151.0   \n",
       "2049           519                 997     123         154.0   \n",
       "2050           544                 944     140         186.0   \n",
       "2051           548                 914     124         169.0   \n",
       "\n",
       "      Fielding_Percentage          Team_Name                 Home_Ball_Park  \\\n",
       "2047                 0.97     Atlanta Braves  Atlanta-Fulton County Stadium   \n",
       "2048                 0.98  Baltimore Orioles               Memorial Stadium   \n",
       "2049                 0.98     Boston Red Sox                 Fenway Park II   \n",
       "2050                 0.97  California Angels                Anaheim Stadium   \n",
       "2051                 0.98  Chicago White Sox                  Comiskey Park   \n",
       "\n",
       "      Attendance  \n",
       "2047    980129.0  \n",
       "2048   2415189.0  \n",
       "2049   2528986.0  \n",
       "2050   2555688.0  \n",
       "2051   2002357.0  \n",
       "\n",
       "[5 rows x 42 columns]"
      ]
     },
     "execution_count": 94,
     "metadata": {},
     "output_type": "execute_result"
    }
   ],
   "source": [
    "baseball_1990_2010.head()"
   ]
  },
  {
   "cell_type": "markdown",
   "metadata": {},
   "source": [
    "I'll be choosing 8 variables to explore descriptive statistics and show visualizations on each variable.\n",
    "\n",
    "Variables: \n",
    "    - Runs Scored\n",
    "    - Hits\n",
    "    - Walks\n",
    "    - Stolen Bases\n",
    "    - Earned Run Average\n",
    "    - Hits Allowed\n",
    "    - Walks Allowed\n",
    "    - Fielding Percentage"
   ]
  },
  {
   "cell_type": "markdown",
   "metadata": {},
   "source": [
    "I chose these variables because I think in general these are the main reasons why a team is able to win games.\n",
    "E.g, in order to score runs you need hitters to get on base via hits or walks, steals can create run opportunities when baserunners are in scoring position (when the runner is on 2nd or 3rd base). To minimize the runs against you need a very strong pitching staff and fielding defense which can be represented by low earned run average and a high fielding percentage."
   ]
  },
  {
   "cell_type": "code",
   "execution_count": 62,
   "metadata": {},
   "outputs": [
    {
     "data": {
      "text/plain": [
       "Year_                    0\n",
       "League                   0\n",
       "Team_                    0\n",
       "Franchise_               0\n",
       "Division                 0\n",
       "Final_Standing           0\n",
       "Games_Played             0\n",
       "Unnamed:_7               0\n",
       "Games_Won                0\n",
       "Games_Lost               0\n",
       "Unnamed:_10             28\n",
       "League_Win              28\n",
       "World_Series            28\n",
       "Runs_Scored              0\n",
       "At_Bats                  0\n",
       "Hits                     0\n",
       "Doubles                  0\n",
       "Triples                  0\n",
       "Home_Runs                0\n",
       "Walks                    0\n",
       "Strike_Outs              0\n",
       "Stolen_Bases             0\n",
       "Caught_Stealing          0\n",
       "Hit_By_Pitch           278\n",
       "Sacrifice_Fly          278\n",
       "Runs_Against             0\n",
       "Earned_Runs              0\n",
       "Earned_Run_Average       0\n",
       "Complete_Games           0\n",
       "Shutout                  0\n",
       "Saves                    0\n",
       "Infield_Put_Outs         0\n",
       "Hits_Allowed             0\n",
       "Home_Run_Allowed         0\n",
       "Walks_Allowed            0\n",
       "Strikeouts_Allowed       0\n",
       "Errors                   0\n",
       "Double_Plays             0\n",
       "Fielding_Percentage      0\n",
       "Team_Name                0\n",
       "Home_Ball_Park           0\n",
       "Attendance               0\n",
       "dtype: int64"
      ]
     },
     "execution_count": 62,
     "metadata": {},
     "output_type": "execute_result"
    }
   ],
   "source": [
    "baseball_1990_2010.isnull().sum()"
   ]
  },
  {
   "cell_type": "markdown",
   "metadata": {},
   "source": [
    "ALthough there are quite a bit of null values in the data set, these variables will not be used for the building of the models"
   ]
  },
  {
   "cell_type": "markdown",
   "metadata": {},
   "source": [
    "# 2.1 Descriptive Statistics "
   ]
  },
  {
   "cell_type": "code",
   "execution_count": 63,
   "metadata": {},
   "outputs": [
    {
     "data": {
      "text/html": [
       "<div>\n",
       "<style scoped>\n",
       "    .dataframe tbody tr th:only-of-type {\n",
       "        vertical-align: middle;\n",
       "    }\n",
       "\n",
       "    .dataframe tbody tr th {\n",
       "        vertical-align: top;\n",
       "    }\n",
       "\n",
       "    .dataframe thead th {\n",
       "        text-align: right;\n",
       "    }\n",
       "</style>\n",
       "<table border=\"1\" class=\"dataframe\">\n",
       "  <thead>\n",
       "    <tr style=\"text-align: right;\">\n",
       "      <th></th>\n",
       "      <th>Runs_Scored</th>\n",
       "      <th>Hits</th>\n",
       "      <th>Walks</th>\n",
       "      <th>Stolen_Bases</th>\n",
       "      <th>Earned_Run_Average</th>\n",
       "      <th>Hits_Allowed</th>\n",
       "      <th>Walks_Allowed</th>\n",
       "      <th>Fielding_Percentage</th>\n",
       "    </tr>\n",
       "  </thead>\n",
       "  <tbody>\n",
       "    <tr>\n",
       "      <th>count</th>\n",
       "      <td>608.000000</td>\n",
       "      <td>608.000000</td>\n",
       "      <td>608.000000</td>\n",
       "      <td>608.000000</td>\n",
       "      <td>608.000000</td>\n",
       "      <td>608.000000</td>\n",
       "      <td>608.000000</td>\n",
       "      <td>608.000000</td>\n",
       "    </tr>\n",
       "    <tr>\n",
       "      <th>mean</th>\n",
       "      <td>747.483553</td>\n",
       "      <td>1441.445724</td>\n",
       "      <td>536.782895</td>\n",
       "      <td>102.462171</td>\n",
       "      <td>4.344375</td>\n",
       "      <td>1441.442434</td>\n",
       "      <td>536.781250</td>\n",
       "      <td>0.980138</td>\n",
       "    </tr>\n",
       "    <tr>\n",
       "      <th>std</th>\n",
       "      <td>93.733980</td>\n",
       "      <td>117.725690</td>\n",
       "      <td>78.410122</td>\n",
       "      <td>35.511353</td>\n",
       "      <td>0.547203</td>\n",
       "      <td>124.154087</td>\n",
       "      <td>73.369502</td>\n",
       "      <td>0.004776</td>\n",
       "    </tr>\n",
       "    <tr>\n",
       "      <th>min</th>\n",
       "      <td>466.000000</td>\n",
       "      <td>963.000000</td>\n",
       "      <td>319.000000</td>\n",
       "      <td>25.000000</td>\n",
       "      <td>3.060000</td>\n",
       "      <td>929.000000</td>\n",
       "      <td>288.000000</td>\n",
       "      <td>0.970000</td>\n",
       "    </tr>\n",
       "    <tr>\n",
       "      <th>25%</th>\n",
       "      <td>686.000000</td>\n",
       "      <td>1398.000000</td>\n",
       "      <td>486.750000</td>\n",
       "      <td>75.750000</td>\n",
       "      <td>3.950000</td>\n",
       "      <td>1385.000000</td>\n",
       "      <td>489.000000</td>\n",
       "      <td>0.980000</td>\n",
       "    </tr>\n",
       "    <tr>\n",
       "      <th>50%</th>\n",
       "      <td>747.000000</td>\n",
       "      <td>1452.500000</td>\n",
       "      <td>533.000000</td>\n",
       "      <td>99.000000</td>\n",
       "      <td>4.310000</td>\n",
       "      <td>1452.000000</td>\n",
       "      <td>537.500000</td>\n",
       "      <td>0.980000</td>\n",
       "    </tr>\n",
       "    <tr>\n",
       "      <th>75%</th>\n",
       "      <td>807.000000</td>\n",
       "      <td>1510.250000</td>\n",
       "      <td>589.250000</td>\n",
       "      <td>124.250000</td>\n",
       "      <td>4.712500</td>\n",
       "      <td>1521.250000</td>\n",
       "      <td>582.000000</td>\n",
       "      <td>0.983000</td>\n",
       "    </tr>\n",
       "    <tr>\n",
       "      <th>max</th>\n",
       "      <td>1009.000000</td>\n",
       "      <td>1684.000000</td>\n",
       "      <td>775.000000</td>\n",
       "      <td>256.000000</td>\n",
       "      <td>6.380000</td>\n",
       "      <td>1734.000000</td>\n",
       "      <td>784.000000</td>\n",
       "      <td>0.989000</td>\n",
       "    </tr>\n",
       "  </tbody>\n",
       "</table>\n",
       "</div>"
      ],
      "text/plain": [
       "       Runs_Scored         Hits       Walks  Stolen_Bases  Earned_Run_Average  \\\n",
       "count   608.000000   608.000000  608.000000    608.000000          608.000000   \n",
       "mean    747.483553  1441.445724  536.782895    102.462171            4.344375   \n",
       "std      93.733980   117.725690   78.410122     35.511353            0.547203   \n",
       "min     466.000000   963.000000  319.000000     25.000000            3.060000   \n",
       "25%     686.000000  1398.000000  486.750000     75.750000            3.950000   \n",
       "50%     747.000000  1452.500000  533.000000     99.000000            4.310000   \n",
       "75%     807.000000  1510.250000  589.250000    124.250000            4.712500   \n",
       "max    1009.000000  1684.000000  775.000000    256.000000            6.380000   \n",
       "\n",
       "       Hits_Allowed  Walks_Allowed  Fielding_Percentage  \n",
       "count    608.000000     608.000000           608.000000  \n",
       "mean    1441.442434     536.781250             0.980138  \n",
       "std      124.154087      73.369502             0.004776  \n",
       "min      929.000000     288.000000             0.970000  \n",
       "25%     1385.000000     489.000000             0.980000  \n",
       "50%     1452.000000     537.500000             0.980000  \n",
       "75%     1521.250000     582.000000             0.983000  \n",
       "max     1734.000000     784.000000             0.989000  "
      ]
     },
     "execution_count": 63,
     "metadata": {},
     "output_type": "execute_result"
    }
   ],
   "source": [
    "baseball_1990_2010[['Runs_Scored','Hits','Walks', 'Stolen_Bases', 'Earned_Run_Average', 'Hits_Allowed', 'Walks_Allowed','Fielding_Percentage']].describe()"
   ]
  },
  {
   "cell_type": "markdown",
   "metadata": {},
   "source": [
    "# 2.2 Visualizations of histograms, boxplots, modes, and comments about the distribution of each variable"
   ]
  },
  {
   "cell_type": "code",
   "execution_count": 8,
   "metadata": {},
   "outputs": [
    {
     "data": {
      "image/png": "[encoded data removed]",
      "text/plain": [
       "<Figure size 432x288 with 1 Axes>"
      ]
     },
     "metadata": {
      "needs_background": "light"
     },
     "output_type": "display_data"
    },
    {
     "data": {
      "image/png": "[encoded data removed]",
      "text/plain": [
       "<Figure size 648x288 with 1 Axes>"
      ]
     },
     "metadata": {
      "needs_background": "light"
     },
     "output_type": "display_data"
    },
    {
     "name": "stdout",
     "output_type": "stream",
     "text": [
      "Mode    Runs_Scored\n",
      "0          691\n"
     ]
    }
   ],
   "source": [
    "baseball_1990_2010['Runs_Scored'].hist()\n",
    "plt.xlabel('Runs Scored')\n",
    "plt.ylabel('# of teams')\n",
    "plt.show()\n",
    "#\n",
    "baseball_1990_2010.boxplot('Runs_Scored', figsize=(9,4), vert=False)\n",
    "plt.show()\n",
    "#\n",
    "#does look symmetric\n",
    "print('Mode',pd.DataFrame(baseball_1990_2010['Runs_Scored']).mode())\n",
    "#one mode\n",
    "#widely spread of data but most datapoints lies in the middle\n",
    "#there are a lot of outliers"
   ]
  },
  {
   "cell_type": "code",
   "execution_count": 9,
   "metadata": {},
   "outputs": [
    {
     "data": {
      "image/png": "[encoded data removed]",
      "text/plain": [
       "<Figure size 432x288 with 1 Axes>"
      ]
     },
     "metadata": {
      "needs_background": "light"
     },
     "output_type": "display_data"
    },
    {
     "data": {
      "image/png": "[encoded data removed]",
      "text/plain": [
       "<Figure size 648x288 with 1 Axes>"
      ]
     },
     "metadata": {
      "needs_background": "light"
     },
     "output_type": "display_data"
    },
    {
     "name": "stdout",
     "output_type": "stream",
     "text": [
      "Mode    Hits\n",
      "0  1400\n"
     ]
    }
   ],
   "source": [
    "baseball_1990_2010['Hits'].hist()\n",
    "plt.xlabel('Hits')\n",
    "plt.ylabel('# of teams')\n",
    "plt.show()\n",
    "#\n",
    "baseball_1990_2010.boxplot('Hits', figsize=(9,4), vert=False)\n",
    "plt.show()\n",
    "#\n",
    "#negatively skewed\n",
    "print('Mode',pd.DataFrame(baseball_1990_2010['Hits']).mode())\n",
    "#one mode\n",
    "#widely spread of data but most datapoints lies on the right side\n",
    "#there are a lot of outliers"
   ]
  },
  {
   "cell_type": "code",
   "execution_count": 10,
   "metadata": {},
   "outputs": [
    {
     "data": {
      "image/png": "[encoded data removed]",
      "text/plain": [
       "<Figure size 432x288 with 1 Axes>"
      ]
     },
     "metadata": {
      "needs_background": "light"
     },
     "output_type": "display_data"
    },
    {
     "data": {
      "image/png": "[encoded data removed]",
      "text/plain": [
       "<Figure size 648x288 with 1 Axes>"
      ]
     },
     "metadata": {
      "needs_background": "light"
     },
     "output_type": "display_data"
    },
    {
     "name": "stdout",
     "output_type": "stream",
     "text": [
      "Mode    Walks\n",
      "0    500\n",
      "1    503\n",
      "2    509\n"
     ]
    }
   ],
   "source": [
    "baseball_1990_2010['Walks'].hist()\n",
    "plt.xlabel('Walks')\n",
    "plt.ylabel('# of teams')\n",
    "plt.show()\n",
    "#\n",
    "baseball_1990_2010.boxplot('Walks', figsize=(9,4), vert=False)\n",
    "plt.show()\n",
    "#\n",
    "#looks symmetric\n",
    "print('Mode',pd.DataFrame(baseball_1990_2010['Walks']).mode())\n",
    "#3 modes\n",
    "#widely spread of data but most datapoints lies on the right side\n",
    "#there is a moderate amount of outliers"
   ]
  },
  {
   "cell_type": "code",
   "execution_count": 11,
   "metadata": {},
   "outputs": [
    {
     "data": {
      "image/png": "[encoded data removed]",
      "text/plain": [
       "<Figure size 432x288 with 1 Axes>"
      ]
     },
     "metadata": {
      "needs_background": "light"
     },
     "output_type": "display_data"
    },
    {
     "data": {
      "image/png": "[encoded data removed]",
      "text/plain": [
       "<Figure size 648x288 with 1 Axes>"
      ]
     },
     "metadata": {
      "needs_background": "light"
     },
     "output_type": "display_data"
    },
    {
     "name": "stdout",
     "output_type": "stream",
     "text": [
      "Mode    Stolen_Bases\n",
      "0         100.0\n"
     ]
    }
   ],
   "source": [
    "baseball_1990_2010['Stolen_Bases'].hist()\n",
    "plt.xlabel('Stolen Bases')\n",
    "plt.ylabel('# of teams')\n",
    "plt.show()\n",
    "#\n",
    "baseball_1990_2010.boxplot('Stolen_Bases', figsize=(9,4), vert=False)\n",
    "plt.show()\n",
    "#\n",
    "#positively skewed\n",
    "print('Mode',pd.DataFrame(baseball_1990_2010['Stolen_Bases']).mode())\n",
    "#one mode\n",
    "#widely spread of data but most datapoints lies on the left side\n",
    "#there is a moderate amount of outliers"
   ]
  },
  {
   "cell_type": "code",
   "execution_count": 12,
   "metadata": {},
   "outputs": [
    {
     "data": {
      "image/png": "[encoded data removed]",
      "text/plain": [
       "<Figure size 432x288 with 1 Axes>"
      ]
     },
     "metadata": {
      "needs_background": "light"
     },
     "output_type": "display_data"
    },
    {
     "data": {
      "image/png": "[encoded data removed]",
      "text/plain": [
       "<Figure size 648x288 with 1 Axes>"
      ]
     },
     "metadata": {
      "needs_background": "light"
     },
     "output_type": "display_data"
    },
    {
     "name": "stdout",
     "output_type": "stream",
     "text": [
      "Mode    Earned_Run_Average\n",
      "0                3.84\n"
     ]
    }
   ],
   "source": [
    "baseball_1990_2010['Earned_Run_Average'].hist()\n",
    "plt.xlabel('Earned Run Average')\n",
    "plt.ylabel('# of teams')\n",
    "plt.show()\n",
    "baseball_1990_2010.boxplot('Earned_Run_Average', figsize=(9,4), vert=False)\n",
    "plt.show()\n",
    "#it's symmetric\n",
    "print('Mode',pd.DataFrame(baseball_1990_2010['Earned_Run_Average']).mode())\n",
    "#one mode\n",
    "#widely spread of data but most points lies in the middle\n",
    "#a small amount of outliers"
   ]
  },
  {
   "cell_type": "code",
   "execution_count": 13,
   "metadata": {},
   "outputs": [
    {
     "data": {
      "image/png": "[encoded data removed]",
      "text/plain": [
       "<Figure size 432x288 with 1 Axes>"
      ]
     },
     "metadata": {
      "needs_background": "light"
     },
     "output_type": "display_data"
    },
    {
     "data": {
      "image/png": "[encoded data removed]",
      "text/plain": [
       "<Figure size 648x288 with 1 Axes>"
      ]
     },
     "metadata": {
      "needs_background": "light"
     },
     "output_type": "display_data"
    },
    {
     "name": "stdout",
     "output_type": "stream",
     "text": [
      "Mode    Hits_Allowed\n",
      "0          1402\n",
      "1          1443\n"
     ]
    }
   ],
   "source": [
    "baseball_1960_2015['Hits_Allowed'].hist()\n",
    "plt.xlabel('Hits Allowed')\n",
    "plt.ylabel('# of teams')\n",
    "plt.show()\n",
    "#\n",
    "baseball_1960_2015.boxplot('Hits_Allowed', figsize=(9,4), vert=False)\n",
    "plt.show()\n",
    "#\n",
    "#appears to be symmetric\n",
    "print('Mode',pd.DataFrame(baseball_1960_2015['Hits_Allowed']).mode())\n",
    "#one mode\n",
    "#widely spread of data but most datapoints lies on the right side\n",
    "#there are a lot of outliers"
   ]
  },
  {
   "cell_type": "code",
   "execution_count": 64,
   "metadata": {},
   "outputs": [
    {
     "data": {
      "image/png": "[encoded data removed]",
      "text/plain": [
       "<Figure size 432x288 with 1 Axes>"
      ]
     },
     "metadata": {
      "needs_background": "light"
     },
     "output_type": "display_data"
    },
    {
     "data": {
      "image/png": "[encoded data removed]",
      "text/plain": [
       "<Figure size 648x288 with 1 Axes>"
      ]
     },
     "metadata": {
      "needs_background": "light"
     },
     "output_type": "display_data"
    },
    {
     "name": "stdout",
     "output_type": "stream",
     "text": [
      "Mode    Walks_Allowed\n",
      "0            546\n"
     ]
    }
   ],
   "source": [
    "baseball_1990_2010['Walks_Allowed'].hist()\n",
    "plt.xlabel('Walks Allowed')\n",
    "plt.ylabel('# of teams')\n",
    "plt.show()\n",
    "baseball_1990_2010.boxplot('Walks_Allowed', figsize=(9,4), vert=False)\n",
    "plt.show()\n",
    "#it's almost symmetric\n",
    "print('Mode',pd.DataFrame(baseball_1990_2010['Walks_Allowed']).mode())\n",
    "#one mode\n",
    "#widely spread of data but most points lies in the middle\n",
    "#there's a moderate amount of outliers"
   ]
  },
  {
   "cell_type": "code",
   "execution_count": 65,
   "metadata": {},
   "outputs": [
    {
     "data": {
      "image/png": "[encoded data removed]",
      "text/plain": [
       "<Figure size 432x288 with 1 Axes>"
      ]
     },
     "metadata": {
      "needs_background": "light"
     },
     "output_type": "display_data"
    },
    {
     "data": {
      "image/png": "[encoded data removed]",
      "text/plain": [
       "<Figure size 648x288 with 1 Axes>"
      ]
     },
     "metadata": {
      "needs_background": "light"
     },
     "output_type": "display_data"
    },
    {
     "name": "stdout",
     "output_type": "stream",
     "text": [
      "Mode    Fielding_Percentage\n",
      "0                 0.98\n"
     ]
    }
   ],
   "source": [
    "baseball_1990_2010['Fielding_Percentage'].hist()\n",
    "plt.xlabel('Fielding Percentage')\n",
    "plt.ylabel('# of teams')\n",
    "plt.show()\n",
    "baseball_1990_2010.boxplot('Fielding_Percentage', figsize=(9,4), vert=False)\n",
    "plt.show()\n",
    "#positively skewed\n",
    "print('Mode',pd.DataFrame(baseball_1990_2010['Fielding_Percentage']).mode())\n",
    "#one mode\n",
    "#widely spread of data but most points lies on the right side\n",
    "#no outliers"
   ]
  },
  {
   "cell_type": "markdown",
   "metadata": {},
   "source": [
    "## Normal Distribution Validity\n",
    "Variables: Run scored, Hits, Walks, Stolen Bases, Earned Run Average, Hits Allowed, Walks Allowed, Fielding Percentage\n",
    "\n",
    "Here we want to get an understanding of the data we're dealing with in terms of the spread with of the mean and standard deviation."
   ]
  },
  {
   "cell_type": "code",
   "execution_count": 66,
   "metadata": {},
   "outputs": [
    {
     "data": {
      "image/png": "[encoded data removed]",
      "text/plain": [
       "<Figure size 432x288 with 1 Axes>"
      ]
     },
     "metadata": {
      "needs_background": "light"
     },
     "output_type": "display_data"
    }
   ],
   "source": [
    "x=baseball_1990_2010['Runs_Scored']\n",
    "y = np.random.normal(loc=x.mean(), scale=x.std(), size=x.count())\n",
    "pp_x=sm.ProbPlot(x)\n",
    "pp_y=sm.ProbPlot(y)\n",
    "qqplot_2samples(pp_x, pp_y)\n",
    "#\n",
    "x = np.linspace(300,1050,baseball_1990_2010['Runs_Scored'].count())\n",
    "y = x\n",
    "plt.plot(x, y, '-r', label='y=x')\n",
    "plt.xlabel('x', color='#1C2833')\n",
    "plt.ylabel('y', color='#1C2833')\n",
    "plt.title('Runs_Scored')\n",
    "plt.show()\n",
    "#looks normally distributed"
   ]
  },
  {
   "cell_type": "code",
   "execution_count": 67,
   "metadata": {},
   "outputs": [
    {
     "data": {
      "image/png": "[encoded data removed]",
      "text/plain": [
       "<Figure size 432x288 with 1 Axes>"
      ]
     },
     "metadata": {
      "needs_background": "light"
     },
     "output_type": "display_data"
    }
   ],
   "source": [
    "x=baseball_1990_2010['Hits']\n",
    "y = np.random.normal(loc=x.mean(), scale=x.std(), size=x.count())\n",
    "pp_x=sm.ProbPlot(x)\n",
    "pp_y=sm.ProbPlot(y)\n",
    "qqplot_2samples(pp_x, pp_y)\n",
    "#\n",
    "x = np.linspace(800,1750,baseball_1990_2010['Hits'].count())\n",
    "y = x\n",
    "plt.plot(x, y, '-r', label='y=x')\n",
    "plt.xlabel('x', color='#1C2833')\n",
    "plt.ylabel('y', color='#1C2833')\n",
    "plt.title('Hits')\n",
    "plt.show()\n",
    "#Doesn't look normally distributed"
   ]
  },
  {
   "cell_type": "code",
   "execution_count": 68,
   "metadata": {},
   "outputs": [
    {
     "data": {
      "image/png": "[encoded data removed]",
      "text/plain": [
       "<Figure size 432x288 with 1 Axes>"
      ]
     },
     "metadata": {
      "needs_background": "light"
     },
     "output_type": "display_data"
    }
   ],
   "source": [
    "x=baseball_1990_2010['Walks']\n",
    "y = np.random.normal(loc=x.mean(), scale=x.std(), size=x.count())\n",
    "pp_x=sm.ProbPlot(x)\n",
    "pp_y=sm.ProbPlot(y)\n",
    "qqplot_2samples(pp_x, pp_y)\n",
    "#\n",
    "x = np.linspace(200,850,baseball_1990_2010['Walks'].count())\n",
    "y = x\n",
    "plt.plot(x, y, '-r', label='y=x')\n",
    "plt.xlabel('x', color='#1C2833')\n",
    "plt.ylabel('y', color='#1C2833')\n",
    "plt.title('Walks')\n",
    "plt.show()\n",
    "#looks very normally distributed"
   ]
  },
  {
   "cell_type": "code",
   "execution_count": 69,
   "metadata": {},
   "outputs": [
    {
     "data": {
      "image/png": "[encoded data removed]",
      "text/plain": [
       "<Figure size 432x288 with 1 Axes>"
      ]
     },
     "metadata": {
      "needs_background": "light"
     },
     "output_type": "display_data"
    }
   ],
   "source": [
    "x=baseball_1990_2010['Stolen_Bases']\n",
    "y = np.random.normal(loc=x.mean(), scale=x.std(), size=x.count())\n",
    "pp_x=sm.ProbPlot(x)\n",
    "pp_y=sm.ProbPlot(y)\n",
    "qqplot_2samples(pp_x, pp_y)\n",
    "#\n",
    "x = np.linspace(0,300,baseball_1990_2010['Stolen_Bases'].count())\n",
    "y = x\n",
    "plt.plot(x, y, '-r', label='y=x')\n",
    "plt.xlabel('x', color='#1C2833')\n",
    "plt.ylabel('y', color='#1C2833')\n",
    "plt.title('Stolen Bases')\n",
    "plt.show()\n",
    "#doesn't look normally distributed"
   ]
  },
  {
   "cell_type": "code",
   "execution_count": 70,
   "metadata": {},
   "outputs": [
    {
     "data": {
      "image/png": "[encoded data removed]",
      "text/plain": [
       "<Figure size 432x288 with 1 Axes>"
      ]
     },
     "metadata": {
      "needs_background": "light"
     },
     "output_type": "display_data"
    }
   ],
   "source": [
    "x=baseball_1990_2010['Earned_Run_Average']\n",
    "y = np.random.normal(loc=x.mean(), scale=x.std(), size=x.count())\n",
    "pp_x=sm.ProbPlot(x)\n",
    "pp_y=sm.ProbPlot(y)\n",
    "qqplot_2samples(pp_x, pp_y)\n",
    "#\n",
    "x = np.linspace(2,7,baseball_1990_2010['Earned_Run_Average'].count())\n",
    "y = x\n",
    "plt.plot(x, y, '-r', label='y=x')\n",
    "plt.xlabel('x', color='#1C2833')\n",
    "plt.ylabel('y', color='#1C2833')\n",
    "plt.title('Earned Run Average')\n",
    "plt.show()\n",
    "#looks very normally distributed"
   ]
  },
  {
   "cell_type": "code",
   "execution_count": 71,
   "metadata": {},
   "outputs": [
    {
     "data": {
      "image/png": "[encoded data removed]",
      "text/plain": [
       "<Figure size 432x288 with 1 Axes>"
      ]
     },
     "metadata": {
      "needs_background": "light"
     },
     "output_type": "display_data"
    }
   ],
   "source": [
    "x=baseball_1990_2010['Hits_Allowed']\n",
    "y = np.random.normal(loc=x.mean(), scale=x.std(), size=x.count())\n",
    "pp_x=sm.ProbPlot(x)\n",
    "pp_y=sm.ProbPlot(y)\n",
    "qqplot_2samples(pp_x, pp_y)\n",
    "#\n",
    "x = np.linspace(750,1800,baseball_1990_2010['Hits_Allowed'].count())\n",
    "y = x\n",
    "plt.plot(x, y, '-r', label='y=x')\n",
    "plt.xlabel('x', color='#1C2833')\n",
    "plt.ylabel('y', color='#1C2833')\n",
    "plt.title('Hits Allowed')\n",
    "plt.show()\n",
    "#doesn't looks normally distributed"
   ]
  },
  {
   "cell_type": "code",
   "execution_count": 72,
   "metadata": {},
   "outputs": [
    {
     "data": {
      "image/png": "[encoded data removed]",
      "text/plain": [
       "<Figure size 432x288 with 1 Axes>"
      ]
     },
     "metadata": {
      "needs_background": "light"
     },
     "output_type": "display_data"
    }
   ],
   "source": [
    "x=baseball_1990_2010['Walks_Allowed']\n",
    "y = np.random.normal(loc=x.mean(), scale=x.std(), size=x.count())\n",
    "pp_x=sm.ProbPlot(x)\n",
    "pp_y=sm.ProbPlot(y)\n",
    "qqplot_2samples(pp_x, pp_y)\n",
    "#\n",
    "x = np.linspace(200,850,baseball_1990_2010['Walks_Allowed'].count())\n",
    "y = x\n",
    "plt.plot(x, y, '-r', label='y=x')\n",
    "plt.xlabel('x', color='#1C2833')\n",
    "plt.ylabel('y', color='#1C2833')\n",
    "plt.title('Walks Allowed')\n",
    "plt.show()\n",
    "#looks very normally distributed"
   ]
  },
  {
   "cell_type": "code",
   "execution_count": 73,
   "metadata": {},
   "outputs": [
    {
     "data": {
      "image/png": "[encoded data removed]",
      "text/plain": [
       "<Figure size 432x288 with 1 Axes>"
      ]
     },
     "metadata": {
      "needs_background": "light"
     },
     "output_type": "display_data"
    }
   ],
   "source": [
    "x=baseball_1990_2010['Fielding_Percentage']\n",
    "y = np.random.normal(loc=x.mean(), scale=x.std(), size=x.count())\n",
    "pp_x=sm.ProbPlot(x)\n",
    "pp_y=sm.ProbPlot(y)\n",
    "qqplot_2samples(pp_x, pp_y)\n",
    "#\n",
    "x = np.linspace(0.94,1,baseball_1990_2010['Fielding_Percentage'].count())\n",
    "y = x\n",
    "plt.plot(x, y, '-r', label='y=x')\n",
    "plt.xlabel('x', color='#1C2833')\n",
    "plt.ylabel('y', color='#1C2833')\n",
    "plt.title('Fielding Percentage')\n",
    "plt.show()\n",
    "#doesn't look normally distributed but we will still keep this as the variation of numbers doesn't appear to be huge"
   ]
  },
  {
   "cell_type": "markdown",
   "metadata": {},
   "source": [
    "# 3: Linear Regression Models"
   ]
  },
  {
   "cell_type": "code",
   "execution_count": 91,
   "metadata": {},
   "outputs": [],
   "source": [
    "baseball_1990_2010=pd.DataFrame(baseball[2047:2655])"
   ]
  },
  {
   "cell_type": "code",
   "execution_count": 92,
   "metadata": {},
   "outputs": [],
   "source": [
    "lin_baseball_1990_2010 = smf.ols(formula = 'Games_Won ~ Runs_Scored + Hits + Walks + Stolen_Bases + Earned_Run_Average + Walks_Allowed + Fielding_Percentage', data=baseball_1990_2010).fit()"
   ]
  },
  {
   "cell_type": "markdown",
   "metadata": {},
   "source": [
    "# 4: Model Validation"
   ]
  },
  {
   "cell_type": "code",
   "execution_count": 93,
   "metadata": {},
   "outputs": [
    {
     "data": {
      "text/html": [
       "<table class=\"simpletable\">\n",
       "<caption>OLS Regression Results</caption>\n",
       "<tr>\n",
       "  <th>Dep. Variable:</th>        <td>Games_Won</td>    <th>  R-squared:         </th> <td>   0.892</td> \n",
       "</tr>\n",
       "<tr>\n",
       "  <th>Model:</th>                   <td>OLS</td>       <th>  Adj. R-squared:    </th> <td>   0.891</td> \n",
       "</tr>\n",
       "<tr>\n",
       "  <th>Method:</th>             <td>Least Squares</td>  <th>  F-statistic:       </th> <td>   706.6</td> \n",
       "</tr>\n",
       "<tr>\n",
       "  <th>Date:</th>             <td>Thu, 26 Nov 2020</td> <th>  Prob (F-statistic):</th> <td>6.26e-285</td>\n",
       "</tr>\n",
       "<tr>\n",
       "  <th>Time:</th>                 <td>19:51:34</td>     <th>  Log-Likelihood:    </th> <td> -1711.1</td> \n",
       "</tr>\n",
       "<tr>\n",
       "  <th>No. Observations:</th>      <td>   608</td>      <th>  AIC:               </th> <td>   3438.</td> \n",
       "</tr>\n",
       "<tr>\n",
       "  <th>Df Residuals:</th>          <td>   600</td>      <th>  BIC:               </th> <td>   3474.</td> \n",
       "</tr>\n",
       "<tr>\n",
       "  <th>Df Model:</th>              <td>     7</td>      <th>                     </th>     <td> </td>    \n",
       "</tr>\n",
       "<tr>\n",
       "  <th>Covariance Type:</th>      <td>nonrobust</td>    <th>                     </th>     <td> </td>    \n",
       "</tr>\n",
       "</table>\n",
       "<table class=\"simpletable\">\n",
       "<tr>\n",
       "           <td></td>              <th>coef</th>     <th>std err</th>      <th>t</th>      <th>P>|t|</th>  <th>[0.025</th>    <th>0.975]</th>  \n",
       "</tr>\n",
       "<tr>\n",
       "  <th>Intercept</th>           <td> -202.2472</td> <td>   36.213</td> <td>   -5.585</td> <td> 0.000</td> <td> -273.366</td> <td> -131.128</td>\n",
       "</tr>\n",
       "<tr>\n",
       "  <th>Runs_Scored</th>         <td>    0.0907</td> <td>    0.004</td> <td>   22.483</td> <td> 0.000</td> <td>    0.083</td> <td>    0.099</td>\n",
       "</tr>\n",
       "<tr>\n",
       "  <th>Hits</th>                <td>    0.0031</td> <td>    0.003</td> <td>    1.139</td> <td> 0.255</td> <td>   -0.002</td> <td>    0.008</td>\n",
       "</tr>\n",
       "<tr>\n",
       "  <th>Walks</th>               <td>    0.0079</td> <td>    0.003</td> <td>    2.585</td> <td> 0.010</td> <td>    0.002</td> <td>    0.014</td>\n",
       "</tr>\n",
       "<tr>\n",
       "  <th>Stolen_Bases</th>        <td>    0.0131</td> <td>    0.005</td> <td>    2.674</td> <td> 0.008</td> <td>    0.003</td> <td>    0.023</td>\n",
       "</tr>\n",
       "<tr>\n",
       "  <th>Earned_Run_Average</th>  <td>  -15.0638</td> <td>    0.376</td> <td>  -40.056</td> <td> 0.000</td> <td>  -15.802</td> <td>  -14.325</td>\n",
       "</tr>\n",
       "<tr>\n",
       "  <th>Walks_Allowed</th>       <td>   -0.0055</td> <td>    0.003</td> <td>   -1.945</td> <td> 0.052</td> <td>   -0.011</td> <td> 5.39e-05</td>\n",
       "</tr>\n",
       "<tr>\n",
       "  <th>Fielding_Percentage</th> <td>  277.7216</td> <td>   36.998</td> <td>    7.506</td> <td> 0.000</td> <td>  205.060</td> <td>  350.383</td>\n",
       "</tr>\n",
       "</table>\n",
       "<table class=\"simpletable\">\n",
       "<tr>\n",
       "  <th>Omnibus:</th>       <td> 0.645</td> <th>  Durbin-Watson:     </th> <td>   2.105</td>\n",
       "</tr>\n",
       "<tr>\n",
       "  <th>Prob(Omnibus):</th> <td> 0.724</td> <th>  Jarque-Bera (JB):  </th> <td>   0.739</td>\n",
       "</tr>\n",
       "<tr>\n",
       "  <th>Skew:</th>          <td>-0.029</td> <th>  Prob(JB):          </th> <td>   0.691</td>\n",
       "</tr>\n",
       "<tr>\n",
       "  <th>Kurtosis:</th>      <td> 2.839</td> <th>  Cond. No.          </th> <td>5.66e+05</td>\n",
       "</tr>\n",
       "</table><br/><br/>Warnings:<br/>[1] Standard Errors assume that the covariance matrix of the errors is correctly specified.<br/>[2] The condition number is large, 5.66e+05. This might indicate that there are<br/>strong multicollinearity or other numerical problems."
      ],
      "text/plain": [
       "<class 'statsmodels.iolib.summary.Summary'>\n",
       "\"\"\"\n",
       "                            OLS Regression Results                            \n",
       "==============================================================================\n",
       "Dep. Variable:              Games_Won   R-squared:                       0.892\n",
       "Model:                            OLS   Adj. R-squared:                  0.891\n",
       "Method:                 Least Squares   F-statistic:                     706.6\n",
       "Date:                Thu, 26 Nov 2020   Prob (F-statistic):          6.26e-285\n",
       "Time:                        19:51:34   Log-Likelihood:                -1711.1\n",
       "No. Observations:                 608   AIC:                             3438.\n",
       "Df Residuals:                     600   BIC:                             3474.\n",
       "Df Model:                           7                                         \n",
       "Covariance Type:            nonrobust                                         \n",
       "=======================================================================================\n",
       "                          coef    std err          t      P>|t|      [0.025      0.975]\n",
       "---------------------------------------------------------------------------------------\n",
       "Intercept            -202.2472     36.213     -5.585      0.000    -273.366    -131.128\n",
       "Runs_Scored             0.0907      0.004     22.483      0.000       0.083       0.099\n",
       "Hits                    0.0031      0.003      1.139      0.255      -0.002       0.008\n",
       "Walks                   0.0079      0.003      2.585      0.010       0.002       0.014\n",
       "Stolen_Bases            0.0131      0.005      2.674      0.008       0.003       0.023\n",
       "Earned_Run_Average    -15.0638      0.376    -40.056      0.000     -15.802     -14.325\n",
       "Walks_Allowed          -0.0055      0.003     -1.945      0.052      -0.011    5.39e-05\n",
       "Fielding_Percentage   277.7216     36.998      7.506      0.000     205.060     350.383\n",
       "==============================================================================\n",
       "Omnibus:                        0.645   Durbin-Watson:                   2.105\n",
       "Prob(Omnibus):                  0.724   Jarque-Bera (JB):                0.739\n",
       "Skew:                          -0.029   Prob(JB):                        0.691\n",
       "Kurtosis:                       2.839   Cond. No.                     5.66e+05\n",
       "==============================================================================\n",
       "\n",
       "Warnings:\n",
       "[1] Standard Errors assume that the covariance matrix of the errors is correctly specified.\n",
       "[2] The condition number is large, 5.66e+05. This might indicate that there are\n",
       "strong multicollinearity or other numerical problems.\n",
       "\"\"\""
      ]
     },
     "execution_count": 93,
     "metadata": {},
     "output_type": "execute_result"
    }
   ],
   "source": [
    "lin_baseball_1990_2010.summary()\n",
    "#r^2 and adj r^2 are strongly significant\n",
    "#f-statistic is very far from 1, which can help make this model more acceptable"
   ]
  },
  {
   "cell_type": "markdown",
   "metadata": {},
   "source": [
    "# 5: Predictions\n",
    "\n",
    "Using the historic data, I will try to accurately predict the number of wins for the following teams\n",
    "\n",
    "I will only be doing the time period of 1990-2015 because all the current 30 franchises were made during this time period.\n",
    "\n",
    "1990-2015: New York Yankees (2012 & 2015), Toronto Blue Jays (2012 & 2015)"
   ]
  },
  {
   "cell_type": "code",
   "execution_count": 77,
   "metadata": {},
   "outputs": [],
   "source": [
    "Yankees=baseball_1990_2010[baseball_1990_2010['Franchise_']=='NYY']\n",
    "Blue_Jays=baseball_1990_2010[baseball_1990_2010['Franchise_']=='TOR']"
   ]
  },
  {
   "cell_type": "code",
   "execution_count": 78,
   "metadata": {},
   "outputs": [],
   "source": [
    "#Yankees\n",
    "#Blue_Jays\n",
    "x_2012=baseball[baseball['Year_'] == 2012]\n",
    "x_2015=baseball[baseball['Year_'] == 2015]\n",
    "#\n",
    "x_Tor=x_2012[x_2012['Franchise_']=='TOR']\n",
    "y_Tor=x_2015[x_2015['Franchise_']=='TOR']\n",
    "x_NYY=x_2012[x_2012['Franchise_']=='NYY']\n",
    "y_NYY=x_2015[x_2015['Franchise_']=='NYY']"
   ]
  },
  {
   "cell_type": "code",
   "execution_count": 79,
   "metadata": {},
   "outputs": [
    {
     "data": {
      "text/html": [
       "<div>\n",
       "<style scoped>\n",
       "    .dataframe tbody tr th:only-of-type {\n",
       "        vertical-align: middle;\n",
       "    }\n",
       "\n",
       "    .dataframe tbody tr th {\n",
       "        vertical-align: top;\n",
       "    }\n",
       "\n",
       "    .dataframe thead th {\n",
       "        text-align: right;\n",
       "    }\n",
       "</style>\n",
       "<table border=\"1\" class=\"dataframe\">\n",
       "  <thead>\n",
       "    <tr style=\"text-align: right;\">\n",
       "      <th></th>\n",
       "      <th>Runs_Scored</th>\n",
       "      <th>Home_Runs</th>\n",
       "      <th>Walks</th>\n",
       "      <th>Stolen_Bases</th>\n",
       "      <th>Earned_Run_Average</th>\n",
       "      <th>Hits_Allowed</th>\n",
       "      <th>Walks_Allowed</th>\n",
       "      <th>Fielding_Percentage</th>\n",
       "    </tr>\n",
       "  </thead>\n",
       "  <tbody>\n",
       "    <tr>\n",
       "      <th>2702</th>\n",
       "      <td>804</td>\n",
       "      <td>245</td>\n",
       "      <td>565</td>\n",
       "      <td>93.0</td>\n",
       "      <td>3.84</td>\n",
       "      <td>1401</td>\n",
       "      <td>431</td>\n",
       "      <td>0.987</td>\n",
       "    </tr>\n",
       "  </tbody>\n",
       "</table>\n",
       "</div>"
      ],
      "text/plain": [
       "      Runs_Scored  Home_Runs  Walks  Stolen_Bases  Earned_Run_Average  \\\n",
       "2702          804        245    565          93.0                3.84   \n",
       "\n",
       "      Hits_Allowed  Walks_Allowed  Fielding_Percentage  \n",
       "2702          1401            431                0.987  "
      ]
     },
     "execution_count": 79,
     "metadata": {},
     "output_type": "execute_result"
    }
   ],
   "source": [
    "x_NYY[['Runs_Scored', 'Home_Runs', 'Walks', 'Stolen_Bases', 'Earned_Run_Average', 'Hits_Allowed', 'Walks_Allowed', 'Fielding_Percentage']]"
   ]
  },
  {
   "cell_type": "code",
   "execution_count": 80,
   "metadata": {},
   "outputs": [
    {
     "data": {
      "text/html": [
       "<div>\n",
       "<style scoped>\n",
       "    .dataframe tbody tr th:only-of-type {\n",
       "        vertical-align: middle;\n",
       "    }\n",
       "\n",
       "    .dataframe tbody tr th {\n",
       "        vertical-align: top;\n",
       "    }\n",
       "\n",
       "    .dataframe thead th {\n",
       "        text-align: right;\n",
       "    }\n",
       "</style>\n",
       "<table border=\"1\" class=\"dataframe\">\n",
       "  <thead>\n",
       "    <tr style=\"text-align: right;\">\n",
       "      <th></th>\n",
       "      <th>Runs_Scored</th>\n",
       "      <th>Home_Runs</th>\n",
       "      <th>Walks</th>\n",
       "      <th>Stolen_Bases</th>\n",
       "      <th>Earned_Run_Average</th>\n",
       "      <th>Hits_Allowed</th>\n",
       "      <th>Walks_Allowed</th>\n",
       "      <th>Fielding_Percentage</th>\n",
       "    </tr>\n",
       "  </thead>\n",
       "  <tbody>\n",
       "    <tr>\n",
       "      <th>2713</th>\n",
       "      <td>716</td>\n",
       "      <td>198</td>\n",
       "      <td>473</td>\n",
       "      <td>123.0</td>\n",
       "      <td>4.64</td>\n",
       "      <td>1439</td>\n",
       "      <td>574</td>\n",
       "      <td>0.984</td>\n",
       "    </tr>\n",
       "  </tbody>\n",
       "</table>\n",
       "</div>"
      ],
      "text/plain": [
       "      Runs_Scored  Home_Runs  Walks  Stolen_Bases  Earned_Run_Average  \\\n",
       "2713          716        198    473         123.0                4.64   \n",
       "\n",
       "      Hits_Allowed  Walks_Allowed  Fielding_Percentage  \n",
       "2713          1439            574                0.984  "
      ]
     },
     "execution_count": 80,
     "metadata": {},
     "output_type": "execute_result"
    }
   ],
   "source": [
    "x_Tor[['Runs_Scored', 'Home_Runs', 'Walks', 'Stolen_Bases', 'Earned_Run_Average', 'Hits_Allowed', 'Walks_Allowed', 'Fielding_Percentage']]"
   ]
  },
  {
   "cell_type": "code",
   "execution_count": 81,
   "metadata": {},
   "outputs": [
    {
     "data": {
      "text/html": [
       "<div>\n",
       "<style scoped>\n",
       "    .dataframe tbody tr th:only-of-type {\n",
       "        vertical-align: middle;\n",
       "    }\n",
       "\n",
       "    .dataframe tbody tr th {\n",
       "        vertical-align: top;\n",
       "    }\n",
       "\n",
       "    .dataframe thead th {\n",
       "        text-align: right;\n",
       "    }\n",
       "</style>\n",
       "<table border=\"1\" class=\"dataframe\">\n",
       "  <thead>\n",
       "    <tr style=\"text-align: right;\">\n",
       "      <th></th>\n",
       "      <th>Runs_Scored</th>\n",
       "      <th>Home_Runs</th>\n",
       "      <th>Walks</th>\n",
       "      <th>Stolen_Bases</th>\n",
       "      <th>Earned_Run_Average</th>\n",
       "      <th>Hits_Allowed</th>\n",
       "      <th>Walks_Allowed</th>\n",
       "      <th>Fielding_Percentage</th>\n",
       "    </tr>\n",
       "  </thead>\n",
       "  <tbody>\n",
       "    <tr>\n",
       "      <th>2781</th>\n",
       "      <td>764</td>\n",
       "      <td>212</td>\n",
       "      <td>554</td>\n",
       "      <td>63.0</td>\n",
       "      <td>4.03</td>\n",
       "      <td>1416</td>\n",
       "      <td>474</td>\n",
       "      <td>0.985</td>\n",
       "    </tr>\n",
       "  </tbody>\n",
       "</table>\n",
       "</div>"
      ],
      "text/plain": [
       "      Runs_Scored  Home_Runs  Walks  Stolen_Bases  Earned_Run_Average  \\\n",
       "2781          764        212    554          63.0                4.03   \n",
       "\n",
       "      Hits_Allowed  Walks_Allowed  Fielding_Percentage  \n",
       "2781          1416            474                0.985  "
      ]
     },
     "execution_count": 81,
     "metadata": {},
     "output_type": "execute_result"
    }
   ],
   "source": [
    "y_NYY[['Runs_Scored', 'Home_Runs', 'Walks', 'Stolen_Bases', 'Earned_Run_Average', 'Hits_Allowed', 'Walks_Allowed', 'Fielding_Percentage']]"
   ]
  },
  {
   "cell_type": "code",
   "execution_count": 82,
   "metadata": {},
   "outputs": [
    {
     "data": {
      "text/html": [
       "<div>\n",
       "<style scoped>\n",
       "    .dataframe tbody tr th:only-of-type {\n",
       "        vertical-align: middle;\n",
       "    }\n",
       "\n",
       "    .dataframe tbody tr th {\n",
       "        vertical-align: top;\n",
       "    }\n",
       "\n",
       "    .dataframe thead th {\n",
       "        text-align: right;\n",
       "    }\n",
       "</style>\n",
       "<table border=\"1\" class=\"dataframe\">\n",
       "  <thead>\n",
       "    <tr style=\"text-align: right;\">\n",
       "      <th></th>\n",
       "      <th>Runs_Scored</th>\n",
       "      <th>Home_Runs</th>\n",
       "      <th>Walks</th>\n",
       "      <th>Stolen_Bases</th>\n",
       "      <th>Earned_Run_Average</th>\n",
       "      <th>Hits_Allowed</th>\n",
       "      <th>Walks_Allowed</th>\n",
       "      <th>Fielding_Percentage</th>\n",
       "    </tr>\n",
       "  </thead>\n",
       "  <tbody>\n",
       "    <tr>\n",
       "      <th>2780</th>\n",
       "      <td>891</td>\n",
       "      <td>232</td>\n",
       "      <td>570</td>\n",
       "      <td>88.0</td>\n",
       "      <td>3.8</td>\n",
       "      <td>1353</td>\n",
       "      <td>397</td>\n",
       "      <td>0.985</td>\n",
       "    </tr>\n",
       "  </tbody>\n",
       "</table>\n",
       "</div>"
      ],
      "text/plain": [
       "      Runs_Scored  Home_Runs  Walks  Stolen_Bases  Earned_Run_Average  \\\n",
       "2780          891        232    570          88.0                 3.8   \n",
       "\n",
       "      Hits_Allowed  Walks_Allowed  Fielding_Percentage  \n",
       "2780          1353            397                0.985  "
      ]
     },
     "execution_count": 82,
     "metadata": {},
     "output_type": "execute_result"
    }
   ],
   "source": [
    "y_Tor[['Runs_Scored', 'Home_Runs', 'Walks', 'Stolen_Bases', 'Earned_Run_Average', 'Hits_Allowed', 'Walks_Allowed', 'Fielding_Percentage']]"
   ]
  },
  {
   "cell_type": "code",
   "execution_count": 83,
   "metadata": {},
   "outputs": [],
   "source": [
    "Yankees_2012=pd.DataFrame({'Runs_Scored':[804], 'Hits':[1462], 'Walks':[565], 'Stolen_Bases':[93], 'Earned_Run_Average':[3.84],'Hits_Allowed':[1401],'Walks_Allowed':[431],'Fielding_Percentage':[0.987]})\n",
    "\n",
    "BlueJays_2012=pd.DataFrame({'Runs_Scored':[716], 'Hits':[1346], 'Walks':[473], 'Stolen_Bases':[123], 'Earned_Run_Average':[4.64],'Hits_Allowed':[1439],'Walks_Allowed':[574],'Fielding_Percentage':[0.984]})\n",
    "\n",
    "Yankees_2015=pd.DataFrame({'Runs_Scored':[764], 'Hits':[1397], 'Walks':[554], 'Stolen_Bases':[63], 'Earned_Run_Average':[4.03],'Hits_Allowed':[1416],'Walks_Allowed':[474],'Fielding_Percentage':[0.985]})\n",
    "\n",
    "BlueJays_2015=pd.DataFrame({'Runs_Scored':[891], 'Hits':[1480], 'Walks':[570],'Stolen_Bases':[88],'Earned_Run_Average':[3.8],'Hits_Allowed':[1353],'Walks_Allowed':[397],'Fielding_Percentage':[0.985]})"
   ]
  },
  {
   "cell_type": "code",
   "execution_count": 84,
   "metadata": {},
   "outputs": [
    {
     "data": {
      "text/plain": [
       "0    94.82766\n",
       "dtype: float64"
      ]
     },
     "execution_count": 84,
     "metadata": {},
     "output_type": "execute_result"
    }
   ],
   "source": [
    "lin_baseball_1990_2010.predict(Yankees_2012)"
   ]
  },
  {
   "cell_type": "code",
   "execution_count": 85,
   "metadata": {},
   "outputs": [
    {
     "data": {
      "text/plain": [
       "0    72.469309\n",
       "dtype: float64"
      ]
     },
     "execution_count": 85,
     "metadata": {},
     "output_type": "execute_result"
    }
   ],
   "source": [
    "lin_baseball_1990_2010.predict(BlueJays_2012)"
   ]
  },
  {
   "cell_type": "code",
   "execution_count": 86,
   "metadata": {},
   "outputs": [
    {
     "data": {
      "text/plain": [
       "0    86.85821\n",
       "dtype: float64"
      ]
     },
     "execution_count": 86,
     "metadata": {},
     "output_type": "execute_result"
    }
   ],
   "source": [
    "lin_baseball_1990_2010.predict(Yankees_2015)"
   ]
  },
  {
   "cell_type": "code",
   "execution_count": 87,
   "metadata": {},
   "outputs": [
    {
     "data": {
      "text/plain": [
       "0    102.987503\n",
       "dtype: float64"
      ]
     },
     "execution_count": 87,
     "metadata": {},
     "output_type": "execute_result"
    }
   ],
   "source": [
    "lin_baseball_1990_2010.predict(BlueJays_2015)"
   ]
  },
  {
   "cell_type": "markdown",
   "metadata": {},
   "source": [
    "# 6: Conclusions\n",
    "\n",
    "Every prediction was very accurate except for the BlueJays_2015.\n",
    "\n",
    "This may be because of how good the BlueJays_2015 batters were as that year they were one of the best offensive teams, also backed up by a very strong pitching staff."
   ]
  },
  {
   "cell_type": "markdown",
   "metadata": {},
   "source": [
    "Root Mean Square Error"
   ]
  },
  {
   "cell_type": "code",
   "execution_count": 88,
   "metadata": {},
   "outputs": [
    {
     "name": "stdout",
     "output_type": "stream",
     "text": [
      "0.17233999557004154\n",
      "0.5306913093843377\n",
      "0.14178969632723692\n",
      "9.987502520487737\n"
     ]
    }
   ],
   "source": [
    "#ii\n",
    "X=x_NYY[['Runs_Scored','Hits','Walks','Stolen_Bases','Earned_Run_Average','Hits_Allowed','Walks_Allowed','Fielding_Percentage']]\n",
    "y=x_NYY[['Games_Won']]\n",
    "X_train, X_test, y_train, y_test = train_test_split(X, y, random_state=1)\n",
    "y_pred=lin_baseball_1990_2010.predict(Yankees_2012)\n",
    "print (np.sqrt(metrics.mean_squared_error(y_test, y_pred)))\n",
    "#the error is very small meaning the prediction is very close\n",
    "#\n",
    "X=x_Tor[['Runs_Scored','Hits','Walks','Stolen_Bases','Earned_Run_Average','Hits_Allowed','Walks_Allowed','Fielding_Percentage']]\n",
    "y=x_Tor[['Games_Won']]\n",
    "X_train, X_test, y_train, y_test = train_test_split(X, y, random_state=1)\n",
    "y_pred=lin_baseball_1990_2010.predict(BlueJays_2012)\n",
    "print (np.sqrt(metrics.mean_squared_error(y_test, y_pred)))\n",
    "#the error is very small meaning the prediction is very close\n",
    "\n",
    "#\n",
    "X=y_NYY[['Runs_Scored','Hits','Walks','Stolen_Bases','Earned_Run_Average','Hits_Allowed','Walks_Allowed','Fielding_Percentage']]\n",
    "y=y_NYY[['Games_Won']]\n",
    "X_train, X_test, y_train, y_test = train_test_split(X, y, random_state=1)\n",
    "y_pred=lin_baseball_1990_2010.predict(Yankees_2015)\n",
    "print (np.sqrt(metrics.mean_squared_error(y_test, y_pred)))\n",
    "#the error is very small meaning the prediction is very close\n",
    "\n",
    "#\n",
    "X=y_Tor[['Runs_Scored','Hits','Walks','Stolen_Bases','Earned_Run_Average','Hits_Allowed','Walks_Allowed','Fielding_Percentage']]\n",
    "y=y_Tor[['Games_Won']]\n",
    "X_train, X_test, y_train, y_test = train_test_split(X, y, random_state=1)\n",
    "y_pred=lin_baseball_1990_2010.predict(BlueJays_2015)\n",
    "print (np.sqrt(metrics.mean_squared_error(y_test, y_pred)))\n",
    "#the error is quite big meaning the prediction is off"
   ]
  },
  {
   "cell_type": "markdown",
   "metadata": {},
   "source": [
    "# 7) Next Steps"
   ]
  },
  {
   "cell_type": "markdown",
   "metadata": {},
   "source": [
    "- Team Placement: \n",
    "\n",
    "    The next steps I could take is to consider which teams are in certain leagues or divisions as this can be a biggest \n",
    "    difference of a teams Win-Loss Record. Some instances can include how good the other teams in divisions are as teams are \n",
    "    scheduled to play teams in their respective division more than certains that are not in their division or league \n",
    "    \n",
    "    \n",
    "- Ballpark Dimensions:\n",
    "    \n",
    "    If a ballpark has short dimensions, this can be a huge factor in creating more home runs and higher E.R.A for certain teams \n",
    "    e.g the New York Yankees(Yankee Stadium), Toronto Blue Jays(Rogers Center).Or viceversa in ballpark with bigger dimensions \n",
    "    such as Oakland Athletics (Oakland Coliseum), Pittsbrugh Pirates(PNC Park)\n",
    "    \n",
    "    \n",
    "- Weather:\n",
    "    \n",
    "    It can affect the travel distance of the ball. If cold, then the ball won't travel as much and may cause positive skew in a team's statsline. Viceversa for when weather is hot. \n",
    "    \n",
    "    I also would need to look weather metrics that are considered to be cold or hot.\n",
    "    \n",
    "- Variables:\n",
    "    I can consider the correlations of the variables on which ones are suited best for Games_Won"
   ]
  },
  {
   "cell_type": "code",
   "execution_count": null,
   "metadata": {},
   "outputs": [],
   "source": []
  }
 ],
 "metadata": {
  "kernelspec": {
   "display_name": "Python 3",
   "language": "python",
   "name": "python3"
  },
  "language_info": {
   "codemirror_mode": {
    "name": "ipython",
    "version": 3
   },
   "file_extension": ".py",
   "mimetype": "text/x-python",
   "name": "python",
   "nbconvert_exporter": "python",
   "pygments_lexer": "ipython3",
   "version": "3.7.1"
  }
 },
 "nbformat": 4,
 "nbformat_minor": 2
}
